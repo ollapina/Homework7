{
 "cells": [
  {
   "cell_type": "markdown",
   "metadata": {},
   "source": [
    "Задание 1\n",
    "Напишите функцию, которая возвращает название валюты (поле 'Name') с максимальным значением курса с помощью сервиса https://www.cbr-xml-daily.ru/daily_json.js"
   ]
  },
  {
   "cell_type": "code",
   "execution_count": null,
   "metadata": {},
   "outputs": [],
   "source": [
    "import requests"
   ]
  },
  {
   "cell_type": "code",
   "execution_count": null,
   "metadata": {},
   "outputs": [],
   "source": [
    "from libs.exchange import Rate"
   ]
  },
  {
   "cell_type": "code",
   "execution_count": null,
   "metadata": {},
   "outputs": [],
   "source": [
    "class CurrencyMaxValue(Rate):\n",
    "    def __init__(self):\n",
    "        super().__init__(format='full')\n",
    "    \n",
    "    def FindMaxValue(self):\n",
    "        \n",
    "        response = self.exchange_rates()\n",
    "        maxvalue = 0\n",
    "        \n",
    "        for currency in response:\n",
    "            if response[currency]['Value'] >= maxvalue:\n",
    "                maxvalue = response[currency]['Value']\n",
    "            \n",
    "        for currency in response:\n",
    "            if response[currency]['Value'] == maxvalue:\n",
    "                print(response[currency]['Name'], ':', response[currency]['Value'])"
   ]
  },
  {
   "cell_type": "code",
   "execution_count": null,
   "metadata": {},
   "outputs": [],
   "source": [
    "cmv = CurrencyMaxValue()"
   ]
  },
  {
   "cell_type": "code",
   "execution_count": null,
   "metadata": {},
   "outputs": [],
   "source": [
    "cmv.FindMaxValue()"
   ]
  },
  {
   "cell_type": "markdown",
   "metadata": {},
   "source": [
    "Задание 2\n",
    "Добавьте в класс Rate параметр diff (со значениями True или False), который в случае значения True в методах курсов валют (eur, usd итд) будет возвращать не курс валюты, а изменение по сравнению в прошлым значением. Считайте, self.diff будет принимать значение True только при возврате значения курса. При отображении всей информации о валюте он не используется."
   ]
  },
  {
   "cell_type": "code",
   "execution_count": null,
   "metadata": {},
   "outputs": [],
   "source": [
    "class CurrencyDiffValue(Rate):\n",
    "    def __init__(self, diff='True'):\n",
    "        self.diff = diff\n",
    "        super().__init__(format='value')\n",
    "    \n",
    "    def find_previous(self, currency):\n",
    "        \"\"\"\n",
    "        Возвращает предыдущее значение курса валюты\n",
    "        \"\"\"\n",
    "        response = self.exchange_rates()\n",
    "        \n",
    "        if currency in response:\n",
    "            return response[currency]['Previous']\n",
    " \n",
    "        return 'Error'     \n",
    "    \n",
    "    def eur(self):\n",
    "        \"\"\"Возвращает курс евро на сегодня в формате self.format или разницу \n",
    "        между текущим и прошлым значениями, если diff==True и не требуется полная информация о валюте\"\"\"\n",
    "        \n",
    "        if self.diff == 'True' and self.format == 'value':\n",
    "            return \"{0:.4f}\".format(self.make_format('EUR') - self.find_previous('EUR'))\n",
    "        else:\n",
    "            return self.make_format('EUR')\n",
    "        \n",
    "    def usd(self):\n",
    "        \"\"\"Возвращает курс доллара США на сегодня в формате self.format или разницу \n",
    "        между текущим и прошлым значениями, если diff==True и не требуется полная информация о валюте\"\"\"\n",
    "\n",
    "        if self.diff == 'True' and self.format == 'value':\n",
    "            return \"{0:.4f}\".format(self.make_format('USD') - self.find_previous('USD'))\n",
    "        else:\n",
    "            return self.make_format('USD')\n",
    "    \n",
    "    def brl(self):\n",
    "        \"\"\"Возвращает курс бразильского реала на сегодня в формате self.format или разницу \n",
    "        между текущим и прошлым значениями, если diff==True и не требуется полная информация о валюте\"\"\"\n",
    "        \n",
    "        if self.diff == 'True' and self.format == 'value':\n",
    "            return \"{0:.4f}\".format(self.make_format('BRL') - self.find_previous('BRL'))\n",
    "        else:\n",
    "            return self.make_format('BRL')"
   ]
  },
  {
   "cell_type": "code",
   "execution_count": null,
   "metadata": {},
   "outputs": [],
   "source": [
    "cdv = CurrencyDiffValue()"
   ]
  },
  {
   "cell_type": "code",
   "execution_count": null,
   "metadata": {},
   "outputs": [],
   "source": [
    "cdv.usd()"
   ]
  },
  {
   "cell_type": "markdown",
   "metadata": {},
   "source": [
    "Задание 3\n",
    "Напишите класс Designer, который учитывает количество международных премий. Подсказки в коде занятия в разделе \"Домашнее задание задача 3\"."
   ]
  },
  {
   "cell_type": "markdown",
   "metadata": {},
   "source": [
    "Домашнее задание задача 3\n",
    "Напишите класс Designer, который учитывает количество международных премий для дизайнеров (из презентации: \"Повышение на 1 грейд за каждые 7 баллов. Получение международной премии – это +2 балла\"). Считайте, что при выходе на работу сотрудник уже имеет две премии и их количество не меняется со стажем (конечно если хотите это можно вручную менять). Выполните проверку для 20 аккредитаций дизайнера Елены."
   ]
  },
  {
   "cell_type": "code",
   "execution_count": null,
   "metadata": {},
   "outputs": [],
   "source": [
    "class Employee:\n",
    "    def __init__(self, name, seniority):\n",
    "        self.name = name\n",
    "        self.seniority = seniority\n",
    "        \n",
    "        self.grade = 1\n",
    "    \n",
    "    def grade_up(self):\n",
    "        \"\"\"Повышает уровень сотрудника\"\"\"\n",
    "        self.grade += 1\n",
    "    \n",
    "    def publish_grade(self):\n",
    "        \"\"\"Публикация результатов аккредитации сотрудников\"\"\"\n",
    "        print(self.name, self.grade)\n",
    "    \n",
    "    def check_if_it_is_time_for_upgrade(self):\n",
    "        pass"
   ]
  },
  {
   "cell_type": "code",
   "execution_count": null,
   "metadata": {},
   "outputs": [],
   "source": [
    "class Designer(Employee):\n",
    "    def __init__(self, name, seniority, awards):\n",
    "        self.awards = awards\n",
    "        super().__init__(name, seniority)\n",
    "    \n",
    "    def check_if_it_is_time_for_upgrade(self):\n",
    "\n",
    "        if self.awards == 0:\n",
    "            self.seniority += 1\n",
    "            \n",
    "        if self.awards > 0:\n",
    "            self.seniority += self.awards * 2\n",
    "            self.awards = 0\n",
    "\n",
    "        if self.seniority % 7 == 0:\n",
    "            self.grade_up()\n",
    "        \n",
    "        return self.publish_grade()"
   ]
  },
  {
   "cell_type": "code",
   "execution_count": null,
   "metadata": {},
   "outputs": [],
   "source": [
    "elena = Designer('Елена', seniority=0, awards=2)"
   ]
  },
  {
   "cell_type": "code",
   "execution_count": null,
   "metadata": {},
   "outputs": [],
   "source": [
    "for i in range(20):\n",
    "    elena.check_if_it_is_time_for_upgrade()"
   ]
  }
 ],
 "metadata": {
  "kernelspec": {
   "display_name": "Python 3",
   "language": "python",
   "name": "python3"
  },
  "language_info": {
   "codemirror_mode": {
    "name": "ipython",
    "version": 3
   },
   "file_extension": ".py",
   "mimetype": "text/x-python",
   "name": "python",
   "nbconvert_exporter": "python",
   "pygments_lexer": "ipython3",
   "version": "3.7.4"
  }
 },
 "nbformat": 4,
 "nbformat_minor": 2
}
